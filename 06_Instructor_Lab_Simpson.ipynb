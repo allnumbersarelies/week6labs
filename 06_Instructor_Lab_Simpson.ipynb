{
 "cells": [
  {
   "cell_type": "markdown",
   "id": "c3b6cd83",
   "metadata": {},
   "source": [
    "# Week 6 Instructor Lab: Magic Crystal Ball &#x1F52E;\n",
    "\n",
    "Author: Spencer T. Simpson <br>\n",
    "Course: BGEN632 Grad. Intro. to Python <br>\n",
    "Term: Spring 2025 <br>\n",
    "Date: April 7, 2025 <br>\n",
    "\n",
    "This notebook contains code for a \"magic crystal ball\" program based on lab assignment requirements outline in the [BGEN632 Week 6 Github repo](https://github.com/allnumbersarelies/week6labs/blob/main/06_Instructor_Lab.md). The programs makes use of collections, nested loops, and a random number generator\n",
    "\n",
    "### Import Modules"
   ]
  },
  {
   "cell_type": "code",
   "execution_count": 1,
   "id": "73349c21",
   "metadata": {},
   "outputs": [],
   "source": [
    "import random as rand"
   ]
  },
  {
   "cell_type": "markdown",
   "id": "daedf42f",
   "metadata": {},
   "source": [
    "### Create Variables"
   ]
  },
  {
   "cell_type": "code",
   "execution_count": 3,
   "id": "929a259c",
   "metadata": {},
   "outputs": [],
   "source": [
    "fortune_response = [\n",
    "\"It is certain\",\n",
    "\"It is decidedly so\",\n",
    "\"That question requires greater monetary compensation\",\n",
    "\"Reply is hazy; try again, with more money\",\n",
    "\"Concentrate and ask again\",\n",
    "\"My reply is no\",\n",
    "\"Outlook is not so good\",\n",
    "\"Very doubtful\",\n",
    "\"Well duh\",\n",
    "\"Follow your heart\",\n",
    "\"Well that is a very strange question, so strange infact, that we need more money to process such a bizarre request\"\n",
    "]\n",
    "\n",
    "question_asked = False\n",
    "service_cost = 0.0\n",
    "\n",
    "questions = []\n",
    "responses = []"
   ]
  },
  {
   "cell_type": "markdown",
   "id": "dddfca0a-a98c-494e-a9b8-7572657a53a7",
   "metadata": {},
   "source": [
    "### Create Nested Loop\n",
    "\n",
    "LOOP WHILE TRUE\n",
    ">SET end service to false  \n",
    ">SET prompt text for first menu prompt  \n",
    ">IF question asked  \n",
    ">>SET prompt text for subsequent menu prompt  \n",
    "\n",
    ">Print 1. Ask question 2. Review questions and responses 3. Complete services and pay\n",
    ">Prompt for selection from menu  \n",
    ">>IF selection from menu is 1  \n",
    ">>>PRINT Ask what you seek to know...  \n",
    ">>>PROMPT and APPEND customer question to questions asked by customer  \n",
    ">>>SET question asked to TRUE  \n",
    ">>>GENERATE and SET random selection from fortune responses  \n",
    ">>>APPEND question response to responses provided to customer  \n",
    ">>>PRINT question response  \n",
    ">>>SET service cost to service cost + 30.00  \n",
    "  \n",
    ">>ELSE IF selection from menu is 2  \n",
    ">>ELSE IF selection from menu is 3  \n",
    ">>ELSE  \n",
    ">>IF end service  \n",
    ">>BREAK  "
   ]
  },
  {
   "cell_type": "code",
   "execution_count": 23,
   "id": "c00d4b6c-eae0-49a3-a2f1-a5ebeb003d2b",
   "metadata": {},
   "outputs": [
    {
     "name": "stdout",
     "output_type": "stream",
     "text": [
      "Welcome to the all-seeing computer!\n",
      "1. Ask a question\n",
      "2. Review questions and responses\n",
      "3. Complete services and pay\n",
      "\n"
     ]
    },
    {
     "name": "stdin",
     "output_type": "stream",
     "text": [
      " 1\n"
     ]
    },
    {
     "name": "stdout",
     "output_type": "stream",
     "text": [
      "Ask what you seek to know...\n"
     ]
    },
    {
     "name": "stdin",
     "output_type": "stream",
     "text": [
      " fall\n"
     ]
    },
    {
     "name": "stdout",
     "output_type": "stream",
     "text": [
      "It is certain\n",
      "\n",
      "1. Ask another question\n",
      "2. Review questions and responses\n",
      "3. Complete services and pay\n",
      "\n"
     ]
    },
    {
     "name": "stdin",
     "output_type": "stream",
     "text": [
      " 2\n"
     ]
    },
    {
     "name": "stdout",
     "output_type": "stream",
     "text": [
      "\n",
      "Question: fall\n",
      "Response: It is certain\n",
      "\n",
      "1. Ask another question\n",
      "2. Review questions and responses\n",
      "3. Complete services and pay\n",
      "\n"
     ]
    },
    {
     "name": "stdin",
     "output_type": "stream",
     "text": [
      " 1\n"
     ]
    },
    {
     "name": "stdout",
     "output_type": "stream",
     "text": [
      "Ask what you seek to know...\n"
     ]
    },
    {
     "name": "stdin",
     "output_type": "stream",
     "text": [
      " fall 2\n"
     ]
    },
    {
     "ename": "IndexError",
     "evalue": "list index out of range",
     "output_type": "error",
     "traceback": [
      "\u001b[1;31m---------------------------------------------------------------------------\u001b[0m",
      "\u001b[1;31mIndexError\u001b[0m                                Traceback (most recent call last)",
      "Cell \u001b[1;32mIn[23], line 32\u001b[0m\n\u001b[0;32m     30\u001b[0m new_response \u001b[38;5;241m=\u001b[39m (rand\u001b[38;5;241m.\u001b[39mchoice(fortune_response))\n\u001b[0;32m     31\u001b[0m responses\u001b[38;5;241m.\u001b[39minsert(number_responses, new_response)\n\u001b[1;32m---> 32\u001b[0m \u001b[38;5;28mprint\u001b[39m(responses[number_responses])\n\u001b[0;32m     33\u001b[0m \u001b[38;5;28mprint\u001b[39m(\u001b[38;5;124m\"\u001b[39m\u001b[38;5;124m\"\u001b[39m)\n\u001b[0;32m     34\u001b[0m number_responses \u001b[38;5;241m+\u001b[39m\u001b[38;5;241m=\u001b[39m \u001b[38;5;241m1\u001b[39m\n",
      "\u001b[1;31mIndexError\u001b[0m: list index out of range"
     ]
    }
   ],
   "source": [
    "print(f\"Welcome to the all-seeing computer!\")\n",
    "\n",
    "qi = 0\n",
    "ri = 0\n",
    "question_asked = False\n",
    "done = False\n",
    "number_questions = 0\n",
    "number_responses = 0\n",
    "\n",
    "while(done == False):\n",
    "    if question_asked == False:\n",
    "        print(f\"1. Ask a question\")    \n",
    "        print(f\"2. Review questions and responses\"),\n",
    "        print(f\"3. Complete services and pay\")\n",
    "        print(\"\")\n",
    "        prompt=float(input(\"\"))\n",
    "        question_asked = True \n",
    "    elif question_asked == True:\n",
    "        print(f\"1. Ask another question\")    \n",
    "        print(f\"2. Review questions and responses\"),\n",
    "        print(f\"3. Complete services and pay\")\n",
    "        print(\"\")\n",
    "        prompt=float(input(\"\"))\n",
    "        \n",
    "    if prompt == 1:\n",
    "        print(\"Ask what you seek to know...\")\n",
    "        new_question = input(\"\")\n",
    "        questions.insert(number_questions, new_question)\n",
    "        number_questions += 1\n",
    "        new_response = (rand.choice(fortune_response))\n",
    "        responses.insert(number_responses, new_response)\n",
    "        print(responses[number_responses])\n",
    "        print(\"\")\n",
    "        number_responses += 1\n",
    "    if prompt == 2:\n",
    "        print(\"\")\n",
    "        if(len(questions)<1) :\n",
    "            print(\"There is nothing to review\")\n",
    "            break\n",
    "        else:\n",
    "            for i in questions:\n",
    "                print(\"Question:\", i)\n",
    "            for i in responses:\n",
    "                print(\"Response:\", i)\n",
    "                print()\n",
    "            questions = []\n",
    "            responses = []\n",
    "    if prompt == 3:\n",
    "        print(len(questions))\n",
    "        "
   ]
  }
 ],
 "metadata": {
  "kernelspec": {
   "display_name": "Python [conda env:base] *",
   "language": "python",
   "name": "conda-base-py"
  },
  "language_info": {
   "codemirror_mode": {
    "name": "ipython",
    "version": 3
   },
   "file_extension": ".py",
   "mimetype": "text/x-python",
   "name": "python",
   "nbconvert_exporter": "python",
   "pygments_lexer": "ipython3",
   "version": "3.12.7"
  }
 },
 "nbformat": 4,
 "nbformat_minor": 5
}
